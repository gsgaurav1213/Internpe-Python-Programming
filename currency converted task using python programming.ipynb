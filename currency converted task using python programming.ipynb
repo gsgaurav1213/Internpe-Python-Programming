{
 "cells": [
  {
   "cell_type": "markdown",
   "id": "4b872d83",
   "metadata": {},
   "source": [
    "# Internship : Internpe Python Programming \n",
    "\n"
   ]
  },
  {
   "cell_type": "markdown",
   "id": "8b975ea6",
   "metadata": {},
   "source": [
    "**Task :-To Create Currency Converter Using Python**"
   ]
  },
  {
   "cell_type": "markdown",
   "id": "2a748d2f",
   "metadata": {},
   "source": [
    "# Author:- Gaurav Balavant Suryavanshi"
   ]
  },
  {
   "cell_type": "code",
   "execution_count": 1,
   "id": "f2cd4ffc",
   "metadata": {},
   "outputs": [
    {
     "name": "stdout",
     "output_type": "stream",
     "text": [
      "Defaulting to user installation because normal site-packages is not writeable\n",
      "Requirement already satisfied: forex-python in c:\\users\\haha corporation\\appdata\\roaming\\python\\python39\\site-packages (1.8)\n",
      "Requirement already satisfied: simplejson in c:\\users\\haha corporation\\appdata\\roaming\\python\\python39\\site-packages (from forex-python) (3.19.1)\n",
      "Requirement already satisfied: requests in c:\\programdata\\anaconda3\\lib\\site-packages (from forex-python) (2.28.1)\n",
      "Requirement already satisfied: certifi>=2017.4.17 in c:\\programdata\\anaconda3\\lib\\site-packages (from requests->forex-python) (2022.9.14)\n",
      "Requirement already satisfied: urllib3<1.27,>=1.21.1 in c:\\programdata\\anaconda3\\lib\\site-packages (from requests->forex-python) (1.26.11)\n",
      "Requirement already satisfied: charset-normalizer<3,>=2 in c:\\programdata\\anaconda3\\lib\\site-packages (from requests->forex-python) (2.0.4)\n",
      "Requirement already satisfied: idna<4,>=2.5 in c:\\programdata\\anaconda3\\lib\\site-packages (from requests->forex-python) (3.3)\n",
      "Note: you may need to restart the kernel to use updated packages.\n"
     ]
    }
   ],
   "source": [
    "pip install forex-python\n"
   ]
  },
  {
   "cell_type": "code",
   "execution_count": 2,
   "id": "978b0e21",
   "metadata": {},
   "outputs": [],
   "source": [
    "from forex_python.converter import CurrencyRates\n"
   ]
  },
  {
   "cell_type": "code",
   "execution_count": 3,
   "id": "c53323ef",
   "metadata": {},
   "outputs": [
    {
     "name": "stdout",
     "output_type": "stream",
     "text": [
      " Enter the amount you want to convert : 1\n",
      "Enter the currency name that has to be converted: USD\n",
      "Enter the currency name to convert: INR\n",
      "1 USD is equal to 81.87402656894183 INR .\n"
     ]
    }
   ],
   "source": [
    "\n",
    "# create an CurrencyRates class\n",
    "currency = CurrencyRates()\n",
    "\n",
    "# currency conveter:-\n",
    "amount = int(input(\" Enter the amount you want to convert : \"))\n",
    "\n",
    "from_currency = input(\"Enter the currency name that has to be converted: \").upper()\n",
    "to_currency = input(\"Enter the currency name to convert: \").upper()\n",
    "\n",
    "converted_amount = currency.convert(from_currency, to_currency, amount)\n",
    "\n",
    "# print the converted amount\n",
    "\n",
    "print(f\"{amount} {from_currency} is equal to {converted_amount} {to_currency}\",\".\")\n"
   ]
  },
  {
   "cell_type": "markdown",
   "id": "bfe8e4ab",
   "metadata": {},
   "source": []
  }
 ],
 "metadata": {
  "kernelspec": {
   "display_name": "Python 3 (ipykernel)",
   "language": "python",
   "name": "python3"
  },
  "language_info": {
   "codemirror_mode": {
    "name": "ipython",
    "version": 3
   },
   "file_extension": ".py",
   "mimetype": "text/x-python",
   "name": "python",
   "nbconvert_exporter": "python",
   "pygments_lexer": "ipython3",
   "version": "3.9.13"
  }
 },
 "nbformat": 4,
 "nbformat_minor": 5
}
